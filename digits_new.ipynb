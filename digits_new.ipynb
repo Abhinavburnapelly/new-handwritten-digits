{
 "cells": [
  {
   "cell_type": "code",
   "execution_count": 12,
   "metadata": {},
   "outputs": [],
   "source": [
    "import pandas as pd\n",
    "import numpy as np"
   ]
  },
  {
   "cell_type": "code",
   "execution_count": 10,
   "metadata": {},
   "outputs": [
    {
     "name": "stdout",
     "output_type": "stream",
     "text": [
      "(42000, 785) (28000, 784)\n"
     ]
    }
   ],
   "source": [
    "mnist_train =pd.read_csv(\"train.csv/train.csv\")\n",
    "mnist_test=pd.read_csv(\"test.csv/test.csv\")\n",
    "print(mnist_train.shape, mnist_test.shape)"
   ]
  },
  {
   "cell_type": "code",
   "execution_count": 11,
   "metadata": {},
   "outputs": [],
   "source": [
    "mnist_train_data=mnist_train.loc[:,'pixel0':]\n",
    "mnist_train_label=mnist_train.loc[:,\"label\"]\n",
    "\n",
    "mnist_train_data=mnist_train_data/255\n",
    "mnist_test=mnist_test/255"
   ]
  },
  {
   "cell_type": "code",
   "execution_count": 14,
   "metadata": {},
   "outputs": [],
   "source": [
    "mnist_train_data=np.array(mnist_train_data)\n",
    "mnist_train_label=np.array(mnist_train_label)\n",
    "mnist_train_data=mnist_train_data.reshape(mnist_train_data.shape[0],28,28,1)\n"
   ]
  },
  {
   "cell_type": "code",
   "execution_count": 15,
   "metadata": {},
   "outputs": [],
   "source": [
    "\n",
    "from tensorflow.keras.models import Sequential\n",
    "from tensorflow.keras.layers import Dense, Dropout, Lambda, Flatten, BatchNormalization\n",
    "from tensorflow.keras.layers import Conv2D, MaxPool2D, AvgPool2D\n",
    "from tensorflow.keras.optimizers import Adadelta\n",
    "from keras.utils.np_utils import to_categorical\n",
    "from tensorflow.keras.preprocessing.image import ImageDataGenerator\n",
    "### When the accuracy or loss starts to plateau during training we can implement the following callbacks \n",
    "#### to lower the learning rate and hence make smaller steps as it gets closer to the global optimum\n",
    "from tensorflow.keras.callbacks import ReduceLROnPlateau\n",
    "from tensorflow.keras.callbacks import LearningRateScheduler"
   ]
  },
  {
   "cell_type": "code",
   "execution_count": 16,
   "metadata": {},
   "outputs": [
    {
     "name": "stdout",
     "output_type": "stream",
     "text": [
      "Shape of y_train after encoding:  (42000, 10)\n"
     ]
    }
   ],
   "source": [
    "nclasses = mnist_train_label.max() - mnist_train_label.min() + 1\n",
    "mnist_train_label = to_categorical(mnist_train_label, num_classes = nclasses)\n",
    "print(\"Shape of y_train after encoding: \", mnist_train_label.shape)"
   ]
  },
  {
   "cell_type": "code",
   "execution_count": 17,
   "metadata": {},
   "outputs": [],
   "source": [
    "\n",
    "def build_model(input_shape=(28, 28, 1)):\n",
    "    model = Sequential()     ## We need a sequential model obviously (don't require bidirectional, etc)\n",
    "    model.add(Conv2D(32, kernel_size = 3, activation='relu', input_shape = input_shape)) # First 2D Convolutional layer\n",
    "    model.add(BatchNormalization()) # Activation is Rectified Linear Unit of ReLU for all layers\n",
    "    model.add(Conv2D(32, kernel_size = 3, activation='relu')) # Batch Normalization is used along with Dropout\n",
    "    model.add(BatchNormalization())\n",
    "    model.add(Conv2D(32, kernel_size = 5, strides=2, padding='same', activation='relu'))\n",
    "    model.add(BatchNormalization())\n",
    "    model.add(Dropout(0.4))\n",
    "    ## Dropout Regularization of 0.4 in order to avoid overfitting\n",
    "    model.add(Conv2D(64, kernel_size = 3, activation='relu'))\n",
    "    model.add(BatchNormalization())\n",
    "    model.add(Conv2D(64, kernel_size = 3, activation='relu'))\n",
    "    model.add(BatchNormalization())\n",
    "    model.add(Conv2D(64, kernel_size = 5, strides=2, padding='same', activation='relu'))\n",
    "    model.add(BatchNormalization())\n",
    "    model.add(Dropout(0.4))\n",
    "\n",
    "    model.add(Conv2D(128, kernel_size = 4, activation='relu'))\n",
    "    model.add(BatchNormalization())\n",
    "    model.add(Flatten())\n",
    "    model.add(Dropout(0.4))\n",
    "    model.add(Dense(10, activation='softmax')) ## Softmax activation used as this is a multiclass classification task\n",
    "    return model"
   ]
  },
  {
   "cell_type": "code",
   "execution_count": 18,
   "metadata": {},
   "outputs": [],
   "source": [
    "model=build_model((28,28,1))\n"
   ]
  },
  {
   "cell_type": "code",
   "execution_count": 21,
   "metadata": {},
   "outputs": [],
   "source": [
    "model.compile(\n",
    "    optimizer='adam',\n",
    "    metrics=['accuracy'],\n",
    "    loss='categorical_crossentropy'\n",
    ")"
   ]
  },
  {
   "cell_type": "code",
   "execution_count": 22,
   "metadata": {},
   "outputs": [
    {
     "name": "stdout",
     "output_type": "stream",
     "text": [
      "Epoch 1/50\n",
      "1050/1050 [==============================] - 17s 10ms/step - loss: 0.2457 - accuracy: 0.9238 - val_loss: 0.0499 - val_accuracy: 0.9837\n",
      "Epoch 2/50\n",
      "1050/1050 [==============================] - 9s 8ms/step - loss: 0.0837 - accuracy: 0.9749 - val_loss: 0.0453 - val_accuracy: 0.9857\n",
      "Epoch 3/50\n",
      "1050/1050 [==============================] - 9s 8ms/step - loss: 0.0671 - accuracy: 0.9801 - val_loss: 0.0405 - val_accuracy: 0.9885\n",
      "Epoch 4/50\n",
      "1050/1050 [==============================] - 9s 9ms/step - loss: 0.0598 - accuracy: 0.9819 - val_loss: 0.0431 - val_accuracy: 0.9856\n",
      "Epoch 5/50\n",
      "1050/1050 [==============================] - 10s 9ms/step - loss: 0.0535 - accuracy: 0.9827 - val_loss: 0.0398 - val_accuracy: 0.9896\n",
      "Epoch 6/50\n",
      "1050/1050 [==============================] - 9s 9ms/step - loss: 0.0461 - accuracy: 0.9861 - val_loss: 0.0339 - val_accuracy: 0.9900\n",
      "Epoch 7/50\n",
      "1050/1050 [==============================] - 10s 9ms/step - loss: 0.0443 - accuracy: 0.9865 - val_loss: 0.0355 - val_accuracy: 0.9898\n",
      "Epoch 8/50\n",
      "1050/1050 [==============================] - 11s 11ms/step - loss: 0.0416 - accuracy: 0.9876 - val_loss: 0.0401 - val_accuracy: 0.9868\n",
      "Epoch 9/50\n",
      "1050/1050 [==============================] - 10s 10ms/step - loss: 0.0352 - accuracy: 0.9892 - val_loss: 0.0307 - val_accuracy: 0.9911\n",
      "Epoch 10/50\n",
      "1050/1050 [==============================] - 10s 10ms/step - loss: 0.0326 - accuracy: 0.9905 - val_loss: 0.0297 - val_accuracy: 0.9914\n",
      "Epoch 11/50\n",
      "1050/1050 [==============================] - 10s 10ms/step - loss: 0.0280 - accuracy: 0.9913 - val_loss: 0.0314 - val_accuracy: 0.9925\n",
      "Epoch 12/50\n",
      "1050/1050 [==============================] - 11s 11ms/step - loss: 0.0264 - accuracy: 0.9917 - val_loss: 0.0261 - val_accuracy: 0.9943\n",
      "Epoch 13/50\n",
      "1050/1050 [==============================] - 11s 11ms/step - loss: 0.0262 - accuracy: 0.9916 - val_loss: 0.0214 - val_accuracy: 0.9949\n",
      "Epoch 14/50\n",
      "1050/1050 [==============================] - 11s 10ms/step - loss: 0.0225 - accuracy: 0.9930 - val_loss: 0.0321 - val_accuracy: 0.9917\n",
      "Epoch 15/50\n",
      "1050/1050 [==============================] - 10s 10ms/step - loss: 0.0236 - accuracy: 0.9922 - val_loss: 0.0271 - val_accuracy: 0.9936\n",
      "Epoch 16/50\n",
      "1050/1050 [==============================] - 11s 11ms/step - loss: 0.0220 - accuracy: 0.9930 - val_loss: 0.0246 - val_accuracy: 0.9943\n",
      "Epoch 17/50\n",
      "1050/1050 [==============================] - 11s 10ms/step - loss: 0.0199 - accuracy: 0.9934 - val_loss: 0.0245 - val_accuracy: 0.9936\n",
      "Epoch 18/50\n",
      "1050/1050 [==============================] - 10s 10ms/step - loss: 0.0167 - accuracy: 0.9943 - val_loss: 0.0204 - val_accuracy: 0.9952\n",
      "Epoch 19/50\n",
      "1050/1050 [==============================] - 10s 9ms/step - loss: 0.0165 - accuracy: 0.9944 - val_loss: 0.0278 - val_accuracy: 0.9933\n",
      "Epoch 20/50\n",
      "1050/1050 [==============================] - 9s 9ms/step - loss: 0.0168 - accuracy: 0.9940 - val_loss: 0.0281 - val_accuracy: 0.9937\n",
      "Epoch 21/50\n",
      "1050/1050 [==============================] - 11s 10ms/step - loss: 0.0151 - accuracy: 0.9951 - val_loss: 0.0249 - val_accuracy: 0.9945\n",
      "Epoch 22/50\n",
      "1050/1050 [==============================] - 10s 10ms/step - loss: 0.0148 - accuracy: 0.9949 - val_loss: 0.0238 - val_accuracy: 0.9951\n",
      "Epoch 23/50\n",
      "1050/1050 [==============================] - 12s 11ms/step - loss: 0.0151 - accuracy: 0.9951 - val_loss: 0.0246 - val_accuracy: 0.9942\n",
      "Epoch 24/50\n",
      "1050/1050 [==============================] - 9s 9ms/step - loss: 0.0138 - accuracy: 0.9953 - val_loss: 0.0237 - val_accuracy: 0.9955\n",
      "Epoch 25/50\n",
      "1050/1050 [==============================] - 11s 11ms/step - loss: 0.0120 - accuracy: 0.9962 - val_loss: 0.0268 - val_accuracy: 0.9943\n",
      "Epoch 26/50\n",
      "1050/1050 [==============================] - 11s 10ms/step - loss: 0.0130 - accuracy: 0.9958 - val_loss: 0.0247 - val_accuracy: 0.9945\n",
      "Epoch 27/50\n",
      "1050/1050 [==============================] - 10s 10ms/step - loss: 0.0106 - accuracy: 0.9967 - val_loss: 0.0265 - val_accuracy: 0.9951\n",
      "Epoch 28/50\n",
      "1050/1050 [==============================] - 10s 10ms/step - loss: 0.0129 - accuracy: 0.9961 - val_loss: 0.0263 - val_accuracy: 0.9954\n",
      "Epoch 29/50\n",
      "1050/1050 [==============================] - 10s 10ms/step - loss: 0.0095 - accuracy: 0.9967 - val_loss: 0.0286 - val_accuracy: 0.9937\n",
      "Epoch 30/50\n",
      "1050/1050 [==============================] - 10s 9ms/step - loss: 0.0098 - accuracy: 0.9967 - val_loss: 0.0269 - val_accuracy: 0.9944\n",
      "Epoch 31/50\n",
      "1050/1050 [==============================] - 11s 10ms/step - loss: 0.0092 - accuracy: 0.9971 - val_loss: 0.0303 - val_accuracy: 0.9943\n",
      "Epoch 32/50\n",
      "1050/1050 [==============================] - 11s 10ms/step - loss: 0.0114 - accuracy: 0.9964 - val_loss: 0.0326 - val_accuracy: 0.9939\n",
      "Epoch 33/50\n",
      "1050/1050 [==============================] - 10s 9ms/step - loss: 0.0093 - accuracy: 0.9969 - val_loss: 0.0290 - val_accuracy: 0.9949\n",
      "Epoch 34/50\n",
      "1050/1050 [==============================] - 10s 9ms/step - loss: 0.0085 - accuracy: 0.9973 - val_loss: 0.0278 - val_accuracy: 0.9949\n",
      "Epoch 35/50\n",
      "1050/1050 [==============================] - 12s 11ms/step - loss: 0.0104 - accuracy: 0.9967 - val_loss: 0.0281 - val_accuracy: 0.9943\n",
      "Epoch 36/50\n",
      "1050/1050 [==============================] - 10s 10ms/step - loss: 0.0078 - accuracy: 0.9978 - val_loss: 0.0305 - val_accuracy: 0.9938\n",
      "Epoch 37/50\n",
      "1050/1050 [==============================] - 10s 10ms/step - loss: 0.0085 - accuracy: 0.9971 - val_loss: 0.0317 - val_accuracy: 0.9943\n",
      "Epoch 38/50\n",
      "1050/1050 [==============================] - 10s 9ms/step - loss: 0.0078 - accuracy: 0.9976 - val_loss: 0.0357 - val_accuracy: 0.9927\n",
      "Epoch 39/50\n",
      "1050/1050 [==============================] - 10s 10ms/step - loss: 0.0076 - accuracy: 0.9977 - val_loss: 0.0307 - val_accuracy: 0.9940\n",
      "Epoch 40/50\n",
      "1050/1050 [==============================] - 10s 10ms/step - loss: 0.0066 - accuracy: 0.9979 - val_loss: 0.0320 - val_accuracy: 0.9942\n",
      "Epoch 41/50\n",
      "1050/1050 [==============================] - 11s 10ms/step - loss: 0.0061 - accuracy: 0.9980 - val_loss: 0.0352 - val_accuracy: 0.9930\n",
      "Epoch 42/50\n",
      "1050/1050 [==============================] - 10s 9ms/step - loss: 0.0076 - accuracy: 0.9976 - val_loss: 0.0283 - val_accuracy: 0.9951\n",
      "Epoch 43/50\n",
      "1050/1050 [==============================] - 10s 9ms/step - loss: 0.0098 - accuracy: 0.9972 - val_loss: 0.0275 - val_accuracy: 0.9949\n",
      "Epoch 44/50\n",
      "1050/1050 [==============================] - 10s 10ms/step - loss: 0.0074 - accuracy: 0.9977 - val_loss: 0.0333 - val_accuracy: 0.9939\n",
      "Epoch 45/50\n",
      "1050/1050 [==============================] - 11s 11ms/step - loss: 0.0062 - accuracy: 0.9979 - val_loss: 0.0292 - val_accuracy: 0.9952\n",
      "Epoch 46/50\n",
      "1050/1050 [==============================] - 11s 10ms/step - loss: 0.0064 - accuracy: 0.9976 - val_loss: 0.0271 - val_accuracy: 0.9954\n",
      "Epoch 47/50\n",
      "1050/1050 [==============================] - 11s 11ms/step - loss: 0.0069 - accuracy: 0.9978 - val_loss: 0.0316 - val_accuracy: 0.9940\n",
      "Epoch 48/50\n",
      "1050/1050 [==============================] - 11s 11ms/step - loss: 0.0063 - accuracy: 0.9980 - val_loss: 0.0269 - val_accuracy: 0.9956\n",
      "Epoch 49/50\n",
      "1050/1050 [==============================] - 11s 10ms/step - loss: 0.0056 - accuracy: 0.9980 - val_loss: 0.0312 - val_accuracy: 0.9946\n",
      "Epoch 50/50\n",
      "1050/1050 [==============================] - 11s 10ms/step - loss: 0.0060 - accuracy: 0.9979 - val_loss: 0.0315 - val_accuracy: 0.9943\n"
     ]
    }
   ],
   "source": [
    "history=model.fit(mnist_train_data,mnist_train_label,epochs=50,validation_split=0.2)"
   ]
  },
  {
   "cell_type": "code",
   "execution_count": 23,
   "metadata": {},
   "outputs": [
    {
     "name": "stderr",
     "output_type": "stream",
     "text": [
      "WARNING:absl:Found untraced functions such as _jit_compiled_convolution_op, _jit_compiled_convolution_op, _jit_compiled_convolution_op, _jit_compiled_convolution_op, _jit_compiled_convolution_op while saving (showing 5 of 7). These functions will not be directly callable after loading.\n"
     ]
    },
    {
     "name": "stdout",
     "output_type": "stream",
     "text": [
      "INFO:tensorflow:Assets written to: model_digits.model\\assets\n"
     ]
    },
    {
     "name": "stderr",
     "output_type": "stream",
     "text": [
      "INFO:tensorflow:Assets written to: model_digits.model\\assets\n"
     ]
    }
   ],
   "source": [
    "from tensorflow import keras;\n",
    "model.save(\"model_digits.model\")"
   ]
  },
  {
   "cell_type": "code",
   "execution_count": null,
   "metadata": {},
   "outputs": [],
   "source": []
  }
 ],
 "metadata": {
  "kernelspec": {
   "display_name": "Python 3",
   "language": "python",
   "name": "python3"
  },
  "language_info": {
   "codemirror_mode": {
    "name": "ipython",
    "version": 3
   },
   "file_extension": ".py",
   "mimetype": "text/x-python",
   "name": "python",
   "nbconvert_exporter": "python",
   "pygments_lexer": "ipython3",
   "version": "3.10.4"
  },
  "orig_nbformat": 4
 },
 "nbformat": 4,
 "nbformat_minor": 2
}
